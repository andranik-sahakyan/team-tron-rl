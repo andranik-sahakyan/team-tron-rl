{
 "cells": [
  {
   "cell_type": "code",
   "execution_count": 1,
   "metadata": {},
   "outputs": [],
   "source": [
    "import numpy as np\n",
    "\n",
    "from colosseumrl.envs.tron import TronGridEnvironment, TronRender\n",
    "from random import choice\n",
    "from time import sleep"
   ]
  },
  {
   "cell_type": "markdown",
   "metadata": {},
   "source": [
    "# ColosseumRL\n",
    "\n",
    "ColosseumRL is a python library to assist in research related to multi-agent games and training agents for them. This library provides a variety of different mutli-agent environments to experiment with. In this example, we will be focusing on the Tron environment. Inspired by the 1982 movie, this game features snake-like mechanics where players try to force their opponenets to crash. First, will examine the environment api for exectuing actions and playing a full game of Tron."
   ]
  },
  {
   "cell_type": "markdown",
   "metadata": {},
   "source": [
    "## The Basic Agent (not very intelligent)\n",
    "\n",
    "A simple test agent to provide us with random actions for playing a full game."
   ]
  },
  {
   "cell_type": "code",
   "execution_count": 2,
   "metadata": {},
   "outputs": [],
   "source": [
    "class RandomAgent:\n",
    "    def __call__(self, env, observation):\n",
    "        return choice(['forward', 'left', 'right'])"
   ]
  },
  {
   "cell_type": "markdown",
   "metadata": {},
   "source": [
    "## Play a Game\n",
    "\n",
    "We will now create the standard reinforcement learning training loop.\n",
    "\n",
    "1. Observe the current state of the environment\n",
    "2. Decide on an action\n",
    "3. Execute the action\n",
    "4. Recieve a reward and observe a new state\n",
    "5. Repeat"
   ]
  },
  {
   "cell_type": "code",
   "execution_count": 3,
   "metadata": {},
   "outputs": [],
   "source": [
    "# Create a Tron environment on a 19x19 Grid\n",
    "env = TronGridEnvironment.create(board_size=19, num_players=4)\n",
    "renderer = TronRender(board_size=19, num_players=4)\n",
    "\n",
    "# Create our simple random agent\n",
    "agent = RandomAgent()"
   ]
  },
  {
   "cell_type": "code",
   "execution_count": 10,
   "metadata": {},
   "outputs": [
    {
     "name": "stdout",
     "output_type": "stream",
     "text": [
      "Player 0 wins.\n"
     ]
    }
   ],
   "source": [
    "# Start the game with the first important API call\n",
    "# `env.new_state` creates a new game\n",
    "\n",
    "# The current state of the environment has two componenets\n",
    "# - the state object contains all of the information about the game configuration\n",
    "# - the player object contains the current acting players\n",
    "# We also create a terminal boolean which starts as false\n",
    "state, players = env.new_state()\n",
    "terminal = False\n",
    "\n",
    "# Create a Rendering box\n",
    "renderer.close()\n",
    "renderer.render(state)\n",
    "\n",
    "# Play until the game is over\n",
    "while not terminal:\n",
    "    # Let each player select an action for their respective observations\n",
    "    actions = [agent(env, env.state_to_observation(state, player)) for player in players]\n",
    "    \n",
    "    # Perform actions simultaneously with the other important API call\n",
    "    # `env.next_state` exectutes actions and produces the next configuration of the game\n",
    "    \n",
    "    # Notice we recieve new state and players objects\n",
    "    # We also recieve \n",
    "    # - reward: A list containing every player's reward after the previous action\n",
    "    # - terminal: An updated boolean informing us if the game is over\n",
    "    # - winners: A list of winners which is None when the game is not over yet.\n",
    "    state, players, rewards, terminal, winners = env.next_state(state, players, actions)\n",
    "    renderer.render(state)\n",
    "    \n",
    "    # Wait so we can see whats happening\n",
    "    sleep(0.05)\n",
    "\n",
    "# Finish up\n",
    "# Here we have the final useful api call for all environments:\n",
    "# `env.compute_rankings` produces the full mapping of rankings after the conclusion of the game\n",
    "# This rankings is a dictionary mapping player_number -> rank\n",
    "if winners.size == 0:\n",
    "    print(f\"No single player won. Tie with rankings: {env.compute_ranking(state, players, winners)}\")\n",
    "else:\n",
    "    print(f\"Player {winners[0]} wins.\")"
   ]
  }
 ],
 "metadata": {
  "kernelspec": {
   "display_name": "Python 3",
   "language": "python",
   "name": "python3"
  },
  "language_info": {
   "codemirror_mode": {
    "name": "ipython",
    "version": 3
   },
   "file_extension": ".py",
   "mimetype": "text/x-python",
   "name": "python",
   "nbconvert_exporter": "python",
   "pygments_lexer": "ipython3",
   "version": "3.7.9"
  }
 },
 "nbformat": 4,
 "nbformat_minor": 4
}
