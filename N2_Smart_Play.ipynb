{
 "cells": [
  {
   "cell_type": "code",
   "execution_count": 2,
   "metadata": {},
   "outputs": [],
   "source": [
    "import numpy as np\n",
    "from random import random, choice\n",
    "\n",
    "from colosseumrl.envs.tron import TronGridEnvironment, TronRender\n",
    "from time import sleep"
   ]
  },
  {
   "cell_type": "markdown",
   "metadata": {},
   "source": [
    "## An Intelligent Agent\n",
    "\n",
    "Now we design an agent that can avoid some basic obstacles.\n",
    "\n",
    "![genius](code.png)"
   ]
  },
  {
   "cell_type": "code",
   "execution_count": 3,
   "metadata": {},
   "outputs": [],
   "source": [
    "class SimpleAvoidAgent:\n",
    "    \"\"\" Basic single player agent to test single player version of Tron. \"\"\"\n",
    "    def __init__(self, noise=0.1):\n",
    "        self.noise = noise\n",
    "\n",
    "    def __call__(self, env, observation):\n",
    "        # With some probability, select a random action for variation\n",
    "        if random() <= self.noise:\n",
    "            return choice(['forward', 'right', 'left'])\n",
    "        \n",
    "        # Get game information\n",
    "        board = observation['board']\n",
    "        head = observation['heads'][0]\n",
    "        direction = observation['directions'][0]\n",
    "        \n",
    "        # Find the head of our body\n",
    "        board_size = board.shape[0]\n",
    "        x, y = head % board_size, head // board_size\n",
    "\n",
    "        # Check ahead. If it's clear, then take a step forward.\n",
    "        nx, ny = env.next_cell(x, y, direction, board_size)\n",
    "        if board[ny, nx] == 0:\n",
    "            return 'forward'\n",
    "\n",
    "        # Check a random direction. If it's clear, then go there.\n",
    "        offset, action, backup = choice([(1, 'right', 'left'), (-1, 'left', 'right')])\n",
    "        nx, ny = env.next_cell(x, y, (direction + offset) % 4, board_size)\n",
    "        if board[ny, nx] == 0:\n",
    "            return action\n",
    "\n",
    "        # Otherwise, go the opposite direction.\n",
    "        return backup"
   ]
  },
  {
   "cell_type": "markdown",
   "metadata": {},
   "source": [
    "## Test Performance"
   ]
  },
  {
   "cell_type": "code",
   "execution_count": 7,
   "metadata": {},
   "outputs": [],
   "source": [
    "# Create a Tron environment on a 25x25 Grid\n",
    "env = TronGridEnvironment.create(board_size=25, num_players=4)\n",
    "renderer = TronRender(board_size=25, num_players=4)\n",
    "\n",
    "# Create our agent with a 5% chance of executing a random action\n",
    "agent = SimpleAvoidAgent(noise=0.05)"
   ]
  },
  {
   "cell_type": "code",
   "execution_count": 10,
   "metadata": {},
   "outputs": [
    {
     "name": "stdout",
     "output_type": "stream",
     "text": [
      "Player 0 wins.\n"
     ]
    }
   ],
   "source": [
    "# Start the game with 4 players\n",
    "state, players = env.new_state()\n",
    "terminal = False\n",
    "\n",
    "renderer.close()\n",
    "renderer.render(state)\n",
    "\n",
    "# Play until the game is over\n",
    "while not terminal:\n",
    "    # Let each player select an action for their respective observations\n",
    "    actions = [agent(env, env.state_to_observation(state, player)) for player in players]\n",
    "    \n",
    "    # Perform actions simultaneously\n",
    "    state, players, rewards, terminal, winners = env.next_state(state, players, actions)\n",
    "    renderer.render(state)\n",
    "    \n",
    "    # Wait so we can see whats happening\n",
    "    sleep(0.05)\n",
    "\n",
    "# Finish up\n",
    "if winners.size == 0:\n",
    "    print(f\"No single player won. Tie with rankings: {env.compute_ranking(state, players, winners)}\")\n",
    "else:\n",
    "    print(f\"Player {winners[0]} wins.\")"
   ]
  },
  {
   "cell_type": "code",
   "execution_count": null,
   "metadata": {},
   "outputs": [],
   "source": []
  }
 ],
 "metadata": {
  "kernelspec": {
   "display_name": "Python (colosseumrl)",
   "language": "python",
   "name": "colosseumrl"
  },
  "language_info": {
   "codemirror_mode": {
    "name": "ipython",
    "version": 3
   },
   "file_extension": ".py",
   "mimetype": "text/x-python",
   "name": "python",
   "nbconvert_exporter": "python",
   "pygments_lexer": "ipython3",
   "version": "3.6.10"
  }
 },
 "nbformat": 4,
 "nbformat_minor": 4
}
